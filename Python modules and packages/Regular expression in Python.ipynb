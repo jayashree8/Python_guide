{
 "cells": [
  {
   "cell_type": "markdown",
   "metadata": {},
   "source": [
    "# Regular expression in Python"
   ]
  },
  {
   "cell_type": "code",
   "execution_count": 1,
   "metadata": {},
   "outputs": [],
   "source": [
    "import re"
   ]
  },
  {
   "cell_type": "markdown",
   "metadata": {},
   "source": [
    "## Pattern searching"
   ]
  },
  {
   "cell_type": "markdown",
   "metadata": {},
   "source": [
    "Let's start off by searching for patterns in text."
   ]
  },
  {
   "cell_type": "code",
   "execution_count": 2,
   "metadata": {},
   "outputs": [],
   "source": [
    "patterns = ['python', 'fun']"
   ]
  },
  {
   "cell_type": "code",
   "execution_count": 3,
   "metadata": {},
   "outputs": [],
   "source": [
    "sent = 'This is a sentence which says python is easy'"
   ]
  },
  {
   "cell_type": "markdown",
   "metadata": {},
   "source": [
    "To search, \"re.search()\" is used where the first argument is what to search and second one is from where to search.\n",
    "\n",
    "So below we try searching \"is\" in \"python is fun\" and get the match."
   ]
  },
  {
   "cell_type": "code",
   "execution_count": 4,
   "metadata": {},
   "outputs": [
    {
     "data": {
      "text/plain": [
       "<re.Match object; span=(7, 9), match='is'>"
      ]
     },
     "execution_count": 4,
     "metadata": {},
     "output_type": "execute_result"
    }
   ],
   "source": [
    "re.search('is', 'python is fun')"
   ]
  },
  {
   "cell_type": "markdown",
   "metadata": {},
   "source": [
    "Using this we will search for the pattern."
   ]
  },
  {
   "cell_type": "code",
   "execution_count": 5,
   "metadata": {},
   "outputs": [
    {
     "name": "stdout",
     "output_type": "stream",
     "text": [
      "Searching for \"python\" in: \n",
      "\"This is a sentence which says python is easy\"\n",
      "\n",
      "Pattern found\n",
      "\n",
      "Searching for \"fun\" in: \n",
      "\"This is a sentence which says python is easy\"\n",
      "\n",
      "Pattern not found\n",
      "\n"
     ]
    }
   ],
   "source": [
    "for pattern in patterns:\n",
    "    print('Searching for \"{}\" in: \\n\"{}\"'.format(pattern, sent))\n",
    "    \n",
    "    if re.search(pattern,sent):\n",
    "        print(\"\\nPattern found\\n\")\n",
    "    else:\n",
    "        print(\"\\nPattern not found\\n\")"
   ]
  },
  {
   "cell_type": "markdown",
   "metadata": {},
   "source": [
    "Now let's get a closer look into this match object."
   ]
  },
  {
   "cell_type": "code",
   "execution_count": 6,
   "metadata": {},
   "outputs": [],
   "source": [
    "match = re.search(patterns[0], sent)"
   ]
  },
  {
   "cell_type": "code",
   "execution_count": 7,
   "metadata": {},
   "outputs": [
    {
     "data": {
      "text/plain": [
       "re.Match"
      ]
     },
     "execution_count": 7,
     "metadata": {},
     "output_type": "execute_result"
    }
   ],
   "source": [
    "type(match)"
   ]
  },
  {
   "cell_type": "markdown",
   "metadata": {},
   "source": [
    "This match object has its own methods which can be called. start() tells the index of the start of the match. end() tells index of the end of match."
   ]
  },
  {
   "cell_type": "code",
   "execution_count": 8,
   "metadata": {},
   "outputs": [
    {
     "data": {
      "text/plain": [
       "30"
      ]
     },
     "execution_count": 8,
     "metadata": {},
     "output_type": "execute_result"
    }
   ],
   "source": [
    "match.start()"
   ]
  },
  {
   "cell_type": "code",
   "execution_count": 9,
   "metadata": {},
   "outputs": [
    {
     "data": {
      "text/plain": [
       "36"
      ]
     },
     "execution_count": 9,
     "metadata": {},
     "output_type": "execute_result"
    }
   ],
   "source": [
    "match.end()"
   ]
  },
  {
   "cell_type": "markdown",
   "metadata": {},
   "source": [
    "## Splitting"
   ]
  },
  {
   "cell_type": "code",
   "execution_count": 10,
   "metadata": {},
   "outputs": [],
   "source": [
    "splitter = ','\n",
    "\n",
    "text = 'Hey, is this your book, No'"
   ]
  },
  {
   "cell_type": "code",
   "execution_count": 11,
   "metadata": {},
   "outputs": [
    {
     "data": {
      "text/plain": [
       "['Hey', ' is this your book', ' No']"
      ]
     },
     "execution_count": 11,
     "metadata": {},
     "output_type": "execute_result"
    }
   ],
   "source": [
    "re.split(splitter, text)"
   ]
  },
  {
   "cell_type": "markdown",
   "metadata": {},
   "source": [
    "## Finding instances of pattern\n",
    "\n",
    "The arguments passed are the term you want to match and the text."
   ]
  },
  {
   "cell_type": "code",
   "execution_count": 12,
   "metadata": {},
   "outputs": [
    {
     "data": {
      "text/plain": [
       "['python', 'python']"
      ]
     },
     "execution_count": 12,
     "metadata": {},
     "output_type": "execute_result"
    }
   ],
   "source": [
    "re.findall('python', 'python is fun and python is easy')"
   ]
  },
  {
   "cell_type": "markdown",
   "metadata": {},
   "source": [
    "## Finding specific patterns\n",
    "\n",
    "Using metacharacters this can be done.\n",
    "\n",
    "A pattern followed by metcharacter * is repeated zero or more times.\n",
    "\n",
    "A pattern followed by metcharacter + must appear at least once.\n",
    "\n",
    "Using ? means the pattern appears zero or one time.\n",
    "\n",
    "For specific number of occurences use {m} after the pattern. m is the number of times pattern should repeat.\n",
    "\n",
    "Use {m,n} where m in minimum and n is maximum number of repeatitions. ({m,}) means the value appears at least m times with no max."
   ]
  },
  {
   "cell_type": "code",
   "execution_count": 13,
   "metadata": {},
   "outputs": [],
   "source": [
    "def re_find(patterns, phrase):\n",
    "    '''\n",
    "    Input: list of regex patterns\n",
    "    Output: list of matches\n",
    "    '''\n",
    "    for pattern in patterns:\n",
    "        print('Searching the phrase \"{}\"'.format(pattern))\n",
    "        print(re.findall(pattern, phrase))\n",
    "        print('\\n')"
   ]
  },
  {
   "cell_type": "markdown",
   "metadata": {},
   "source": [
    "### Repetition"
   ]
  },
  {
   "cell_type": "code",
   "execution_count": 14,
   "metadata": {},
   "outputs": [
    {
     "name": "stdout",
     "output_type": "stream",
     "text": [
      "Searching the phrase \"jd*\"\n",
      "['jd', 'jd', 'j', 'j', 'jddd', 'jddd', 'jddd', 'jd', 'j', 'j', 'j', 'j', 'j', 'j', 'jdddd']\n",
      "\n",
      "\n",
      "Searching the phrase \"jd+\"\n",
      "['jd', 'jd', 'jddd', 'jddd', 'jddd', 'jd', 'jdddd']\n",
      "\n",
      "\n",
      "Searching the phrase \"jd?\"\n",
      "['jd', 'jd', 'j', 'j', 'jd', 'jd', 'jd', 'jd', 'j', 'j', 'j', 'j', 'j', 'j', 'jd']\n",
      "\n",
      "\n",
      "Searching the phrase \"jd{3}\"\n",
      "['jddd', 'jddd', 'jddd', 'jddd']\n",
      "\n",
      "\n",
      "Searching the phrase \"jd{2,3}\"\n",
      "['jddd', 'jddd', 'jddd', 'jddd']\n",
      "\n",
      "\n"
     ]
    }
   ],
   "source": [
    "txt = 'jdjd..jjjddd...jdddjddd...djdj...djjjjj...jdddd'\n",
    "\n",
    "patterns = ['jd*', 'jd+', 'jd?', 'jd{3}', 'jd{2,3}']\n",
    "\n",
    "re_find(patterns,txt)"
   ]
  },
  {
   "cell_type": "markdown",
   "metadata": {},
   "source": [
    "### Character set\n",
    "\n",
    "It is used when we want to match any one of a group of characters at a point. Brackets are used to construct these character sets.\n",
    "\n",
    "[ab] searches for occurence of either a or b."
   ]
  },
  {
   "cell_type": "code",
   "execution_count": 15,
   "metadata": {},
   "outputs": [
    {
     "name": "stdout",
     "output_type": "stream",
     "text": [
      "Searching the phrase \"[jd]\"\n",
      "['j', 'd', 'j', 'd', 'j', 'j', 'j', 'd', 'd', 'd', 'j', 'd', 'd', 'd', 'j', 'd', 'd', 'd', 'd', 'j', 'd', 'j', 'd', 'j', 'j', 'j', 'j', 'j', 'j', 'd', 'd', 'd', 'd']\n",
      "\n",
      "\n",
      "Searching the phrase \"j[jd]+\"\n",
      "['jdjd', 'jjjddd', 'jdddjddd', 'jdj', 'jjjjj', 'jdddd']\n",
      "\n",
      "\n"
     ]
    }
   ],
   "source": [
    "txt = 'jdjd..jjjddd...jdddjddd...djdj...djjjjj...jdddd'\n",
    "\n",
    "patterns = ['[jd]', \n",
    "            'j[jd]+']  # j followed by one or more j or d\n",
    "\n",
    "re_find(patterns,txt)"
   ]
  },
  {
   "cell_type": "markdown",
   "metadata": {},
   "source": [
    "### Exclusion\n",
    "\n",
    "To exclude the terms we use ^ in the bracket suntax notation.\n",
    "\n",
    "[^...] will match any single character not in the brackets."
   ]
  },
  {
   "cell_type": "code",
   "execution_count": 16,
   "metadata": {},
   "outputs": [],
   "source": [
    "txt = 'Hello! My name is liza, what is yours? Sir. '"
   ]
  },
  {
   "cell_type": "markdown",
   "metadata": {},
   "source": [
    "check for matches that are not !.,? or space. The + sign is to check if the match appears at least once. Thsi way we can remove the punctautions."
   ]
  },
  {
   "cell_type": "code",
   "execution_count": 17,
   "metadata": {},
   "outputs": [
    {
     "data": {
      "text/plain": [
       "['Hello', 'My', 'name', 'is', 'liza', 'what', 'is', 'yours', 'Sir']"
      ]
     },
     "execution_count": 17,
     "metadata": {},
     "output_type": "execute_result"
    }
   ],
   "source": [
    "re.findall('[^!,.? ]+', txt)"
   ]
  },
  {
   "cell_type": "markdown",
   "metadata": {},
   "source": [
    "### Character ranges\n",
    "\n",
    "It helps you define a character set to include all the characters between start to stop point. \n",
    "\n",
    "[b-j] would return matches with any instances of letters between b and j."
   ]
  },
  {
   "cell_type": "code",
   "execution_count": 18,
   "metadata": {},
   "outputs": [
    {
     "name": "stdout",
     "output_type": "stream",
     "text": [
      "Searching the phrase \"[a-z]+\"\n",
      "['ey', 'love', 'coding', 'in', 'python', 't', 'is', 'fun', 'and', 'easy']\n",
      "\n",
      "\n",
      "Searching the phrase \"[A-Z]+\"\n",
      "['H', 'I', 'I']\n",
      "\n",
      "\n",
      "Searching the phrase \"[a-zA-Z]+\"\n",
      "['Hey', 'I', 'love', 'coding', 'in', 'python', 'It', 'is', 'fun', 'and', 'easy']\n",
      "\n",
      "\n",
      "Searching the phrase \"[A-Z][a-z]+\"\n",
      "['Hey', 'It']\n",
      "\n",
      "\n"
     ]
    }
   ],
   "source": [
    "txt = 'Hey. I love coding in python. It is fun and easy.'\n",
    "\n",
    "patterns = ['[a-z]+', '[A-Z]+', \n",
    "            '[a-zA-Z]+',    # lower or upper case \n",
    "            '[A-Z][a-z]+']  # one upper followed by lower case\n",
    "\n",
    "re_find(patterns, txt)"
   ]
  },
  {
   "cell_type": "markdown",
   "metadata": {},
   "source": [
    " ### Escape codes\n",
    " \n",
    "They are used to find specific types of patterns in data.\n",
    " \n",
    "\\d - digit\n",
    "\n",
    "\\D - non-digit\n",
    "\n",
    "\\s - whitespace (space, tab, newline)\n",
    "\n",
    "\\S - non-whitespace\n",
    "\n",
    "\\w - alphanumeric\n",
    "\n",
    "\\W - non-alphanumeric\n",
    "\n",
    "To differentiate between string escape characters and regex escape characters, regex escape characters are preceeded by a \"r\"."
   ]
  },
  {
   "cell_type": "code",
   "execution_count": 20,
   "metadata": {},
   "outputs": [
    {
     "name": "stdout",
     "output_type": "stream",
     "text": [
      "Searching the phrase \"\\d+\"\n",
      "['123']\n",
      "\n",
      "\n",
      "Searching the phrase \"\\D+\"\n",
      "['Python is a #easy language and I am using it since ', ' months']\n",
      "\n",
      "\n",
      "Searching the phrase \"\\s+\"\n",
      "[' ', ' ', ' ', ' ', ' ', ' ', ' ', ' ', ' ', ' ', ' ', ' ']\n",
      "\n",
      "\n",
      "Searching the phrase \"\\S+\"\n",
      "['Python', 'is', 'a', '#easy', 'language', 'and', 'I', 'am', 'using', 'it', 'since', '123', 'months']\n",
      "\n",
      "\n",
      "Searching the phrase \"\\w+\"\n",
      "['Python', 'is', 'a', 'easy', 'language', 'and', 'I', 'am', 'using', 'it', 'since', '123', 'months']\n",
      "\n",
      "\n",
      "Searching the phrase \"\\W+\"\n",
      "[' ', ' ', ' #', ' ', ' ', ' ', ' ', ' ', ' ', ' ', ' ', ' ']\n",
      "\n",
      "\n"
     ]
    }
   ],
   "source": [
    "txt = 'Python is a #easy language and I am using it since 123 months'\n",
    "\n",
    "patterns = [r'\\d+', r'\\D+', r'\\s+', r'\\S+', r'\\w+', r'\\W+']\n",
    "\n",
    "re_find(patterns, txt)"
   ]
  },
  {
   "cell_type": "code",
   "execution_count": null,
   "metadata": {},
   "outputs": [],
   "source": []
  }
 ],
 "metadata": {
  "kernelspec": {
   "display_name": "Python 3",
   "language": "python",
   "name": "python3"
  },
  "language_info": {
   "codemirror_mode": {
    "name": "ipython",
    "version": 3
   },
   "file_extension": ".py",
   "mimetype": "text/x-python",
   "name": "python",
   "nbconvert_exporter": "python",
   "pygments_lexer": "ipython3",
   "version": "3.7.7"
  }
 },
 "nbformat": 4,
 "nbformat_minor": 4
}
